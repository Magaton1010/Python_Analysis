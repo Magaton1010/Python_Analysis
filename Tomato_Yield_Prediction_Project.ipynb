{
  "nbformat": 4,
  "nbformat_minor": 0,
  "metadata": {
    "colab": {
      "provenance": [],
      "authorship_tag": "ABX9TyNaLpl5XzbaG79opzVHWZ8M",
      "include_colab_link": true
    },
    "kernelspec": {
      "name": "python3",
      "display_name": "Python 3"
    },
    "language_info": {
      "name": "python"
    }
  },
  "cells": [
    {
      "cell_type": "markdown",
      "metadata": {
        "id": "view-in-github",
        "colab_type": "text"
      },
      "source": [
        "<a href=\"https://colab.research.google.com/github/Magaton1010/Python_Analysis/blob/main/Tomato_Yield_Prediction_Project.ipynb\" target=\"_parent\"><img src=\"https://colab.research.google.com/assets/colab-badge.svg\" alt=\"Open In Colab\"/></a>"
      ]
    },
    {
      "cell_type": "markdown",
      "source": [
        "# Tomato Yield Prediction Project\n",
        "\n",
        "\n",
        "\n",
        "## Table of Contents\n",
        "\n",
        "- [Introduction](#introduction)\n",
        "- [Data](#data)\n",
        "- [Methodology](#methodology)\n",
        "- [Results](#results)\n",
        "- [Usage](#usage)\n",
        "- [Contributing](#contributing)\n",
        "- [License](#license)\n",
        "\n",
        "## Introduction\n",
        "\n",
        "This project focuses on predicting yield using nutration rate levels as predictors. The goal is to develop a predictive model that can assist in optimizing crop management strategies.\n",
        "\n",
        "## Data\n",
        "\n",
        "We used datasets from three different o cultivation sites, each containing information  nutration rate, and total yield (TY). The datasets were preprocessed and split into training and testing sets for model development and evaluation.\n",
        "\n",
        "## Methodology\n",
        "\n",
        "We employed a Linear Regression model to predict yield based on the provided predictors. The model was trained and evaluated for each site separately.\n",
        "\n",
        "## Results\n",
        "\n",
        "The performance of the developed model was assessed using Mean Squared Error (MSE) and R-squared (R2) metrics. The model's predictions were visualized through scatter plots, comparing actual and predicted total yields.\n"
      ],
      "metadata": {
        "id": "eKYudqE_e9D6"
      }
    },
    {
      "cell_type": "code",
      "execution_count": null,
      "metadata": {
        "id": "WMoityz4e42k"
      },
      "outputs": [],
      "source": [
        "import pandas as pd\n",
        "import numpy as np\n",
        "from sklearn.model_selection import train_test_split\n",
        "from sklearn.linear_model import LinearRegression\n",
        "from sklearn.metrics import mean_squared_error, r2_score\n",
        "import matplotlib.pyplot as plt\n",
        "\n",
        "# Load datasets for each site\n",
        "site1_data = pd.read_csv('site1_dataset.csv')\n",
        "site2_data = pd.read_csv('site2_dataset.csv')\n",
        "site3_data = pd.read_csv('site3_dataset.csv')\n",
        "\n",
        "# Assuming the columns in each dataset are 'TY', 'nutrition1', and 'nutrition2'\n",
        "# For each site, extract features (nutrition2 and nutrition2) and target variable (Total Yield)\n",
        "X_site1 = site1_data[['nutrition1', 'nutrition2']]\n",
        "y_site1 = site1_data['TY']\n",
        "\n",
        "X_site2 = site2_data[['nutrition1', 'nutrition2']]\n",
        "y_site2 = site2_data['TY']\n",
        "\n",
        "X_site3 = site3_data[['nutrition1', 'nutrition2']]\n",
        "y_site3 = site3_data['TY']\n",
        "\n",
        "# Split data for each site into training and testing sets\n",
        "X_train_site1, X_test_site1, y_train_site1, y_test_site1 = train_test_split(X_site1, y_site1, test_size=0.2, random_state=42)\n",
        "X_train_site2, X_test_site2, y_train_site2, y_test_site2 = train_test_split(X_site2, y_site2, test_size=0.2, random_state=42)\n",
        "X_train_site3, X_test_site3, y_train_site3, y_test_site3 = train_test_split(X_site3, y_site3, test_size=0.2, random_state=42)\n",
        "\n",
        "# Initialize and train Linear Regression models for each site\n",
        "model_site1 = LinearRegression()\n",
        "model_site1.fit(X_train_site1, y_train_site1)\n",
        "\n",
        "model_site2 = LinearRegression()\n",
        "model_site2.fit(X_train_site2, y_train_site2)\n",
        "\n",
        "model_site3 = LinearRegression()\n",
        "model_site3.fit(X_train_site3, y_train_site3)\n",
        "\n",
        "# Make predictions and evaluate models for each site\n",
        "def evaluate_model(model, X_test, y_test, site_name):\n",
        "    y_pred = model.predict(X_test)\n",
        "    mse = mean_squared_error(y_test, y_pred)\n",
        "    r2 = r2_score(y_test, y_pred)\n",
        "\n",
        "    print(f\"Site: {site_name}\")\n",
        "    print(f\"Mean Squared Error: {mse:.2f}\")\n",
        "    print(f\"R-squared: {r2:.2f}\")\n",
        "    print()\n",
        "\n",
        "evaluate_model(model_site1, X_test_site1, y_test_site1, \"Site 1\")\n",
        "evaluate_model(model_site2, X_test_site2, y_test_site2, \"Site 2\")\n",
        "evaluate_model(model_site3, X_test_site3, y_test_site3, \"Site 3\")"
      ]
    },
    {
      "cell_type": "markdown",
      "source": [],
      "metadata": {
        "id": "HGUUr1gbhJWg"
      }
    }
  ]
}