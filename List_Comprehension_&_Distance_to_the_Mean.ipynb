{
  "nbformat": 4,
  "nbformat_minor": 0,
  "metadata": {
    "colab": {
      "provenance": [],
      "authorship_tag": "ABX9TyPkRgpVyf9H7S/dztab6w2e",
      "include_colab_link": true
    },
    "kernelspec": {
      "name": "python3",
      "display_name": "Python 3"
    },
    "language_info": {
      "name": "python"
    }
  },
  "cells": [
    {
      "cell_type": "markdown",
      "metadata": {
        "id": "view-in-github",
        "colab_type": "text"
      },
      "source": [
        "<a href=\"https://colab.research.google.com/github/Magaton1010/Python_Analysis/blob/main/List_Comprehension_%26_Distance_to_the_Mean.ipynb\" target=\"_parent\"><img src=\"https://colab.research.google.com/assets/colab-badge.svg\" alt=\"Open In Colab\"/></a>"
      ]
    },
    {
      "cell_type": "markdown",
      "source": [
        "***Calculating the Distance to the Mean using List Comprehension***"
      ],
      "metadata": {
        "id": "P_VHXoNkRvai"
      }
    },
    {
      "cell_type": "code",
      "source": [
        "import numpy as np\n",
        "data = [[1,2], [3,4], [5,6],[0.5,1],[-3,7]]\n",
        "data = np.array(data)\n",
        "\n",
        "mean = data.mean(axis=0)\n",
        "print(mean)"
      ],
      "metadata": {
        "colab": {
          "base_uri": "https://localhost:8080/"
        },
        "id": "J8upqnSHR1kV",
        "outputId": "aa935cb5-c9ae-447b-c3e7-c072694c269a"
      },
      "execution_count": 11,
      "outputs": [
        {
          "output_type": "stream",
          "name": "stdout",
          "text": [
            "[1.3 4. ]\n"
          ]
        }
      ]
    },
    {
      "cell_type": "code",
      "source": [
        "np.linalg.norm(data[0]-mean)"
      ],
      "metadata": {
        "colab": {
          "base_uri": "https://localhost:8080/"
        },
        "id": "kIlUN2nJTZyx",
        "outputId": "4bed6ba3-0a46-42bd-9db2-81cf890cb749"
      },
      "execution_count": 12,
      "outputs": [
        {
          "output_type": "execute_result",
          "data": {
            "text/plain": [
              "2.0223748416156684"
            ]
          },
          "metadata": {},
          "execution_count": 12
        }
      ]
    },
    {
      "cell_type": "code",
      "source": [
        "a =[2,4,6,8]\n",
        "b=[item + 5 for item in a]\n",
        "b\n"
      ],
      "metadata": {
        "colab": {
          "base_uri": "https://localhost:8080/"
        },
        "id": "yIlh9VYyTx_Z",
        "outputId": "30d8f320-3f75-4e27-f9c9-293d0de9ed16"
      },
      "execution_count": 14,
      "outputs": [
        {
          "output_type": "execute_result",
          "data": {
            "text/plain": [
              "[7, 9, 11, 13]"
            ]
          },
          "metadata": {},
          "execution_count": 14
        }
      ]
    },
    {
      "cell_type": "code",
      "source": [
        "dists=[np.linalg.norm(data[i]-mean) for i in range(len(data))]\n",
        "dists"
      ],
      "metadata": {
        "colab": {
          "base_uri": "https://localhost:8080/"
        },
        "id": "4zt7mlkeUzpl",
        "outputId": "0af61404-7eed-4f1f-8832-26604c23bfa5"
      },
      "execution_count": 15,
      "outputs": [
        {
          "output_type": "execute_result",
          "data": {
            "text/plain": [
              "[2.0223748416156684,\n",
              " 1.7,\n",
              " 4.205948168962618,\n",
              " 3.104834939252005,\n",
              " 5.243090691567332]"
            ]
          },
          "metadata": {},
          "execution_count": 15
        }
      ]
    }
  ]
}