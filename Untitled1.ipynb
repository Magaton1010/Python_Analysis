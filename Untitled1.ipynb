{
  "nbformat": 4,
  "nbformat_minor": 0,
  "metadata": {
    "colab": {
      "provenance": [],
      "authorship_tag": "ABX9TyMMSYDGeB8o2868MwvFTSZs",
      "include_colab_link": true
    },
    "kernelspec": {
      "name": "python3",
      "display_name": "Python 3"
    },
    "language_info": {
      "name": "python"
    }
  },
  "cells": [
    {
      "cell_type": "markdown",
      "metadata": {
        "id": "view-in-github",
        "colab_type": "text"
      },
      "source": [
        "<a href=\"https://colab.research.google.com/github/Magaton1010/Python_Analysis/blob/main/Untitled1.ipynb\" target=\"_parent\"><img src=\"https://colab.research.google.com/assets/colab-badge.svg\" alt=\"Open In Colab\"/></a>"
      ]
    },
    {
      "cell_type": "markdown",
      "source": [
        "**Excel Sheet Splitter :page_facing_up:**\n",
        "\n",
        "This Python script is a powerful tool for data analysts and researchers working with large Excel files. It automates the process of splitting Excel files into separate files for each sheet, making data management more efficient and organized.\n",
        "\n",
        "**Features :star2:**\n",
        "\n",
        "Automated Excel Sheet Splitting: Just provide the input and output directories, and let the script do the rest.\n",
        "Error Handling: The script checks if the input folder exists and creates the output folder if it doesn’t exist.\n",
        "Supports Multiple Excel Formats: Handles both ‘.xlsx’ and ‘.xls’ files.\n",
        "\n",
        "**How to Use :hammer_and_wrench:**\n",
        "\n",
        "Clone this repository to your local machine.\n",
        "Replace the input_folder_path and output_folder_path in the script with the paths to your directories."
      ],
      "metadata": {
        "id": "D17tqNx6Jp50"
      }
    },
    {
      "cell_type": "code",
      "source": [
        "import os\n",
        "import pandas as pd\n",
        "\n",
        "def process_excel_files(input_folder_path, output_folder_path):\n",
        "    \"\"\"Splits Excel files from the input folder into separate files for each sheet and saves them in the output folder.\"\"\"\n",
        "    if not os.path.exists(input_folder_path):\n",
        "        raise FileNotFoundError(f\"Input folder '{input_folder_path}' not found.\")\n",
        "\n",
        "    if not os.path.exists(output_folder_path):\n",
        "        os.makedirs(output_folder_path)\n",
        "        print(f\"Output folder '{output_folder_path}' created.\")\n",
        "\n",
        "    excel_files = [file for file in os.listdir(input_folder_path) if file.endswith(('.xlsx', '.xls'))]\n",
        "\n",
        "    all_sheet_files = []\n",
        "\n",
        "    for file in excel_files:\n",
        "        input_file_path = os.path.join(input_folder_path, file)\n",
        "        sheets = pd.read_excel(input_file_path, sheet_name=None)\n",
        "\n",
        "        for sheet_name, df in sheets.items():\n",
        "            output_file_path = os.path.join(output_folder_path, f\"{sheet_name}_{file}\")\n",
        "            df.to_excel(output_file_path, index=False)\n",
        "            all_sheet_files.append(output_file_path)\n",
        "\n",
        "    return all_sheet_files\n",
        "\n",
        "if __name__ == \"__main__\":\n",
        "    input_folder_path =\n",
        "    output_folder_path =\n",
        "    try:\n",
        "        all_sheet_files = process_excel_files(input_folder_path, output_folder_path)\n",
        "        print(f\"Processed {len(all_sheet_files)} sheets.\")\n",
        "    except FileNotFoundError as e:\n",
        "        print(e)\n"
      ],
      "metadata": {
        "id": "p5uf9vLSLRgy"
      },
      "execution_count": null,
      "outputs": []
    },
    {
      "cell_type": "markdown",
      "source": [
        "**Use Cases :briefcase:**\n",
        "\n",
        "Data Analysis: Split large Excel files into separate files for each sheet for easier data manipulation and analysis.\n",
        "Data Management: Organize your data more efficiently by having separate files for each sheet.\n",
        "Research: Easily manage and analyze large datasets from research studies."
      ],
      "metadata": {
        "id": "ch7aBSQzMMiG"
      }
    }
  ]
}