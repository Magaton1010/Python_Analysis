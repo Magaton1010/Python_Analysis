{
  "nbformat": 4,
  "nbformat_minor": 0,
  "metadata": {
    "colab": {
      "provenance": [],
      "authorship_tag": "ABX9TyOPNKvDAflGYQ0PUsqFz9EH",
      "include_colab_link": true
    },
    "kernelspec": {
      "name": "python3",
      "display_name": "Python 3"
    },
    "language_info": {
      "name": "python"
    }
  },
  "cells": [
    {
      "cell_type": "markdown",
      "metadata": {
        "id": "view-in-github",
        "colab_type": "text"
      },
      "source": [
        "<a href=\"https://colab.research.google.com/github/Magaton1010/Python_Analysis/blob/main/Untitled0.ipynb\" target=\"_parent\"><img src=\"https://colab.research.google.com/assets/colab-badge.svg\" alt=\"Open In Colab\"/></a>"
      ]
    },
    {
      "cell_type": "markdown",
      "source": [
        "Data Slicing with python in excel based on unique column value\n",
        "\n"
      ],
      "metadata": {
        "id": "WmLR1BxDaJrg"
      }
    },
    {
      "cell_type": "code",
      "execution_count": null,
      "metadata": {
        "id": "aLM_cdGNaAXo"
      },
      "outputs": [],
      "source": [
        "import pandas as pd\n",
        "import seaborn as sns\n",
        "import os\n",
        "input_folder = r'C:\\Users\\esktop\\ ' # Path to the folder containing input images\n",
        "output_folder = r'C:\\Users\\Desktop\\''  # Path to the folder where segmented images will be saved\n",
        "\n",
        "\n",
        "# Create output folders if they don't exist\n",
        "if not os.path.exists(output_folder):\n",
        "    os.makedirs(output_folder)\n",
        "\n",
        "#if not os.path.exists(area_folder):\n",
        "   # os.makedirs(area_folder)\n",
        "# Process each image file in the input folder\n",
        "for filename in os.listdir(input_folder):\n",
        "    if filename.endswith('.xlsx'):  # Adjust the file extension if needed\n",
        "        # Load the image\n",
        "        file_path = os.path.join(input_folder, filename)\n",
        "        data = pd.read_excel(file_path)\n",
        "        FieldID = data['FieldID'].unique()\n",
        "        print(filename)\n",
        "        print(type(filename))\n",
        "        for item in enumerate(FieldID):\n",
        "         df1 = data.loc[data['FieldID'] == item[1]]\n",
        "         file_name = item[1] + filename\n",
        "\n",
        "         output_path_contours = os.path.join(output_folder, os.path.splitext(file_name)[0] + '.xlsx' )\n",
        "         df1.to_excel(output_path_contours, index=False)\n"
      ]
    }
  ]
}