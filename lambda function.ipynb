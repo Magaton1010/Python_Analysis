{
  "nbformat": 4,
  "nbformat_minor": 0,
  "metadata": {
    "colab": {
      "provenance": [],
      "authorship_tag": "ABX9TyP59hcX39qCOO3lXOxC7LNm",
      "include_colab_link": true
    },
    "kernelspec": {
      "name": "python3",
      "display_name": "Python 3"
    },
    "language_info": {
      "name": "python"
    }
  },
  "cells": [
    {
      "cell_type": "markdown",
      "metadata": {
        "id": "view-in-github",
        "colab_type": "text"
      },
      "source": [
        "<a href=\"https://colab.research.google.com/github/Magaton1010/Python_Analysis/blob/main/lambda%20function.ipynb\" target=\"_parent\"><img src=\"https://colab.research.google.com/assets/colab-badge.svg\" alt=\"Open In Colab\"/></a>"
      ]
    },
    {
      "cell_type": "code",
      "source": [
        "import numpy as np\n",
        "import pandas as pd\n",
        "import matplotlib.pyplot as plt\n",
        "import seaborn as sns"
      ],
      "metadata": {
        "id": "tv2QyF2Spoig"
      },
      "execution_count": 2,
      "outputs": []
    },
    {
      "cell_type": "markdown",
      "source": [
        "### lambda functions\n",
        "\n",
        "Sometimes it is useful to create an \"anonymous function\", usually to pass to another function as an argument.  The term \"lambda function\" has been used in this context in many languages, originating with Lisp.  A lambda function can have any number of arguments but only one expression that when evaluated produces the result. Lambda functions, unlike defined functions, always return a variable.\n",
        "\n",
        "The format of a lambda function is  \n",
        "\n",
        "```\n",
        "lambda arguments: expression  \n",
        "```\n",
        "\n",
        "Lambda functions can look similar to a mathematical expression for evaluating a function.  \n",
        "For example:\n",
        "\n",
        "```\n",
        "(lambda x: x**2)(3)\n",
        "```\n",
        "\n",
        "Is the same as mathmatically writing $f(x) = x^2$ an then evauluating the function $f$ at $x=3$,  \n",
        "$f(3) = 9$"
      ],
      "metadata": {
        "id": "AuYhfc7IpbTU"
      }
    },
    {
      "cell_type": "code",
      "source": [
        "(lambda x: x**2)(3)"
      ],
      "metadata": {
        "colab": {
          "base_uri": "https://localhost:8080/"
        },
        "id": "57Ei3PQBpiPl",
        "outputId": "ceededf5-21ed-4e1d-c4a5-beaeae50fd55"
      },
      "execution_count": 3,
      "outputs": [
        {
          "output_type": "execute_result",
          "data": {
            "text/plain": [
              "9"
            ]
          },
          "metadata": {},
          "execution_count": 3
        }
      ]
    },
    {
      "cell_type": "code",
      "source": [
        "f = lambda x: np.sin(x)\n",
        "x = np.linspace(-np.pi, np.pi, 100)\n",
        "y = [f(i) for i in x]\n",
        "plt.plot(x, y)"
      ],
      "metadata": {
        "colab": {
          "base_uri": "https://localhost:8080/",
          "height": 447
        },
        "id": "8yrEDwEdsNbI",
        "outputId": "6a5dce24-d93d-46c1-db43-b28e2304503f"
      },
      "execution_count": 4,
      "outputs": [
        {
          "output_type": "execute_result",
          "data": {
            "text/plain": [
              "[<matplotlib.lines.Line2D at 0x7d4a67fe5480>]"
            ]
          },
          "metadata": {},
          "execution_count": 4
        },
        {
          "output_type": "display_data",
          "data": {
            "text/plain": [
              "<Figure size 640x480 with 1 Axes>"
            ],
            "image/png": "[encoded data removed]"
          },
          "metadata": {}
        }
      ]
    },
    {
      "cell_type": "code",
      "source": [
        "numbers = [1, 2, 3, 4]\n",
        "squares = map(lambda x: x**2, numbers)  # Applies lambda to each item\n",
        "print(list(squares))"
      ],
      "metadata": {
        "colab": {
          "base_uri": "https://localhost:8080/"
        },
        "id": "j9hMxhsqsh_H",
        "outputId": "2fdaa35f-58af-414a-e7b2-cb46e2a2f756"
      },
      "execution_count": 5,
      "outputs": [
        {
          "output_type": "stream",
          "name": "stdout",
          "text": [
            "[1, 4, 9, 16]\n"
          ]
        }
      ]
    },
    {
      "cell_type": "markdown",
      "source": [
        "# Using **lambda** functions with **tabular data** in Python"
      ],
      "metadata": {
        "id": "nN-R3ORWt8zA"
      }
    },
    {
      "cell_type": "code",
      "source": [
        "import pandas as pd\n",
        "\n",
        "# Sample DataFrame\n",
        "data = {\n",
        "    'Name': ['Alice', 'Bob', 'Charlie', 'David'],\n",
        "    'Age': [24, 27, 22, 32],\n",
        "    'Salary': [50000, 60000, 45000, 70000]\n",
        "}\n",
        "\n",
        "df = pd.DataFrame(data)\n",
        "print(df)"
      ],
      "metadata": {
        "colab": {
          "base_uri": "https://localhost:8080/"
        },
        "id": "0z2H-_Zot8OX",
        "outputId": "f620731c-50f4-4bab-b785-2bf07eabcc9b"
      },
      "execution_count": 6,
      "outputs": [
        {
          "output_type": "stream",
          "name": "stdout",
          "text": [
            "      Name  Age  Salary\n",
            "0    Alice   24   50000\n",
            "1      Bob   27   60000\n",
            "2  Charlie   22   45000\n",
            "3    David   32   70000\n"
          ]
        }
      ]
    },
    {
      "cell_type": "markdown",
      "source": [
        " lambda function with the **apply()** method to perform operations on a specific column in a DataFrame."
      ],
      "metadata": {
        "id": "eXoVZa5fuKrj"
      }
    },
    {
      "cell_type": "code",
      "source": [
        "# Increase salary by 10%\n",
        "df['Increased_Salary'] = df['Salary'].apply(lambda x: x * 1.10)\n",
        "print(df)"
      ],
      "metadata": {
        "colab": {
          "base_uri": "https://localhost:8080/"
        },
        "id": "HTSAuweKuLBW",
        "outputId": "cf27fd0b-2305-4e5f-e103-a6245aef5599"
      },
      "execution_count": 7,
      "outputs": [
        {
          "output_type": "stream",
          "name": "stdout",
          "text": [
            "      Name  Age  Salary  Increased_Salary\n",
            "0    Alice   24   50000           55000.0\n",
            "1      Bob   27   60000           66000.0\n",
            "2  Charlie   22   45000           49500.0\n",
            "3    David   32   70000           77000.0\n"
          ]
        }
      ]
    },
    {
      "cell_type": "code",
      "source": [
        "# Combine Name and Age into a new column\n",
        "df['Name_Age'] = df.apply(lambda row: f\"{row['Name']} is {row['Age']} years old\", axis=1)\n",
        "print(df)"
      ],
      "metadata": {
        "colab": {
          "base_uri": "https://localhost:8080/"
        },
        "id": "Zcc_trcuui6h",
        "outputId": "0540292a-e034-4086-ee0d-4bb23fe9d587"
      },
      "execution_count": 8,
      "outputs": [
        {
          "output_type": "stream",
          "name": "stdout",
          "text": [
            "      Name  Age  Salary  Increased_Salary                 Name_Age\n",
            "0    Alice   24   50000           55000.0    Alice is 24 years old\n",
            "1      Bob   27   60000           66000.0      Bob is 27 years old\n",
            "2  Charlie   22   45000           49500.0  Charlie is 22 years old\n",
            "3    David   32   70000           77000.0    David is 32 years old\n"
          ]
        }
      ]
    },
    {
      "cell_type": "markdown",
      "source": [
        " Using Lambda for filtering"
      ],
      "metadata": {
        "id": "FS-NnnbMutPL"
      }
    },
    {
      "cell_type": "code",
      "source": [
        "# Filter rows where Salary is greater than 50,000\n",
        "high_earners = df[df['Salary'].apply(lambda x: x > 58000)]\n",
        "print(high_earners)"
      ],
      "metadata": {
        "colab": {
          "base_uri": "https://localhost:8080/"
        },
        "id": "YYvNf5Yvu-A8",
        "outputId": "5e183878-0173-4c7f-f903-897ac827cd8c"
      },
      "execution_count": 14,
      "outputs": [
        {
          "output_type": "stream",
          "name": "stdout",
          "text": [
            "    Name  Age  Salary  Increased_Salary               Name_Age\n",
            "1    Bob   27   60000           66000.0    Bob is 27 years old\n",
            "3  David   32   70000           77000.0  David is 32 years old\n"
          ]
        }
      ]
    },
    {
      "cell_type": "markdown",
      "source": [
        "Using Lambda with **map()**\n",
        "The map() function is another useful tool when you need to transform a single column using a lambda function."
      ],
      "metadata": {
        "id": "BfT82Nvtv0Lp"
      }
    },
    {
      "cell_type": "code",
      "source": [
        "# Format Salary as a string with dollar sign\n",
        "df['Formatted_Salary'] = df['Salary'].map(lambda x: f\"${x:,.2f}\")\n",
        "print(df)"
      ],
      "metadata": {
        "colab": {
          "base_uri": "https://localhost:8080/"
        },
        "id": "rMoMGVhbvn-L",
        "outputId": "5d94d6ef-3758-4ed5-d721-bde63c67df33"
      },
      "execution_count": 16,
      "outputs": [
        {
          "output_type": "stream",
          "name": "stdout",
          "text": [
            "      Name  Age  Salary  Increased_Salary                 Name_Age  \\\n",
            "0    Alice   24   50000           55000.0    Alice is 24 years old   \n",
            "1      Bob   27   60000           66000.0      Bob is 27 years old   \n",
            "2  Charlie   22   45000           49500.0  Charlie is 22 years old   \n",
            "3    David   32   70000           77000.0    David is 32 years old   \n",
            "\n",
            "  Formatted_Salary  \n",
            "0       $50,000.00  \n",
            "1       $60,000.00  \n",
            "2       $45,000.00  \n",
            "3       $70,000.00  \n"
          ]
        }
      ]
    },
    {
      "cell_type": "markdown",
      "source": [
        "Using Lambda with **groupby()** You can also use lambda functions when aggregating data with groupby()."
      ],
      "metadata": {
        "id": "W7Pv6-ZOyTxj"
      }
    },
    {
      "cell_type": "code",
      "source": [
        "# Define salary ranges\n",
        "df['Salary_Range'] = df['Salary'].apply(lambda x: 'Low' if x < 50000 else 'High')\n",
        "\n",
        "# Group by Salary_Range and count\n",
        "salary_group = df.groupby('Salary_Range').size()\n",
        "print(salary_group)"
      ],
      "metadata": {
        "colab": {
          "base_uri": "https://localhost:8080/"
        },
        "id": "sFCttthTyVxr",
        "outputId": "7a86d4b5-a6ba-4259-aa24-6d1d8787fc57"
      },
      "execution_count": 17,
      "outputs": [
        {
          "output_type": "stream",
          "name": "stdout",
          "text": [
            "Salary_Range\n",
            "High    3\n",
            "Low     1\n",
            "dtype: int64\n"
          ]
        }
      ]
    },
    {
      "cell_type": "markdown",
      "source": [
        "**Lambda functions with pandas offer a powerful way to transform, filter, and manipulate tabular data efficiently**"
      ],
      "metadata": {
        "id": "4ui4X-wjzccQ"
      }
    }
  ]
}