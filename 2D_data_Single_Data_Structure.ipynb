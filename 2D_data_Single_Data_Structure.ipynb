{
  "nbformat": 4,
  "nbformat_minor": 0,
  "metadata": {
    "colab": {
      "provenance": [],
      "authorship_tag": "ABX9TyMzRHqF8UE9uUz3zG90zdZM",
      "include_colab_link": true
    },
    "kernelspec": {
      "name": "python3",
      "display_name": "Python 3"
    },
    "language_info": {
      "name": "python"
    }
  },
  "cells": [
    {
      "cell_type": "markdown",
      "metadata": {
        "id": "view-in-github",
        "colab_type": "text"
      },
      "source": [
        "<a href=\"https://colab.research.google.com/github/Magaton1010/Python_Analysis/blob/main/2D_data_Single_Data_Structure.ipynb\" target=\"_parent\"><img src=\"https://colab.research.google.com/assets/colab-badge.svg\" alt=\"Open In Colab\"/></a>"
      ]
    },
    {
      "cell_type": "markdown",
      "source": [
        "Storing 2D Coordinates in a Single Data Structure\n"
      ],
      "metadata": {
        "id": "RhVcfIHYFN7N"
      }
    },
    {
      "cell_type": "code",
      "execution_count": 37,
      "metadata": {
        "colab": {
          "base_uri": "https://localhost:8080/"
        },
        "id": "ZakrXEhyFGdU",
        "outputId": "a780d42d-6a22-417b-fadd-d5459b1459f5"
      },
      "outputs": [
        {
          "output_type": "stream",
          "name": "stdout",
          "text": [
            "(5, 2)\n",
            "[2. 4. 6. 1. 7.]\n",
            "[2.0, 4.0, 6.0]\n",
            "[2. 4. 6. 1. 7.]\n"
          ]
        }
      ],
      "source": [
        "import numpy as np\n",
        "data = [[1,2], [3,4], [5,6],[0.5,1],[-3,7]]\n",
        "data = np.array(data)\n",
        "print(data.shape)\n",
        "print(data[:,1])\n",
        "print([data[0][1], data[1][1], data[2][1]])\n",
        "print(data[:,-1])"
      ]
    },
    {
      "cell_type": "code",
      "source": [
        "x_min = np.min(data[:,0])\n",
        "x_max = np.max(data[:,0])\n",
        "y_min = np.min(data[:,1])\n",
        "y_max = np.max(data[:,1])\n",
        "print(\"x_min:\",x_min,\" x_max:\", x_max,\" y_min:\", y_min,\" y_max:\", y_max)"
      ],
      "metadata": {
        "colab": {
          "base_uri": "https://localhost:8080/"
        },
        "id": "sE1OFgNNIoiP",
        "outputId": "0fbb9fb3-da72-490f-8636-e0e392783859"
      },
      "execution_count": 38,
      "outputs": [
        {
          "output_type": "stream",
          "name": "stdout",
          "text": [
            "x_min: -3.0  x_max: 5.0  y_min: 1.0  y_max: 7.0\n"
          ]
        }
      ]
    },
    {
      "cell_type": "code",
      "source": [
        "mean = np.mean(data, axis=0)\n",
        "print(mean)"
      ],
      "metadata": {
        "colab": {
          "base_uri": "https://localhost:8080/"
        },
        "id": "TP7NoOcuJJZx",
        "outputId": "c6dfc508-ead6-4858-b3a6-55268016b9dc"
      },
      "execution_count": 39,
      "outputs": [
        {
          "output_type": "stream",
          "name": "stdout",
          "text": [
            "[1.3 4. ]\n"
          ]
        }
      ]
    },
    {
      "cell_type": "code",
      "source": [
        "import matplotlib.pyplot as plt\n",
        "import matplotlib.patches as pat\n",
        "stdv = np.std(data, axis=0)\n",
        "print(stdv)\n",
        "ellipse= pat.Ellipse([mean[0],mean[1]], width=stdv[0]*2, height=stdv[1]*2, alpha =0.5,edgecolor='lime',facecolor='cyan',angle=0)\n",
        "fig, ax = plt.subplots()\n",
        "ax.add_patch(ellipse)\n",
        "plt.scatter(data[:,0], data[:,1])\n",
        "plt.scatter(mean[0], mean[1], color='red')\n",
        "plt.show()"
      ],
      "metadata": {
        "colab": {
          "base_uri": "https://localhost:8080/",
          "height": 447
        },
        "id": "9TjR3DOjKZ2k",
        "outputId": "44306bb9-8d5d-4e92-c87b-e8c5e9f04e49"
      },
      "execution_count": 48,
      "outputs": [
        {
          "output_type": "stream",
          "name": "stdout",
          "text": [
            "[2.67581763 2.28035085]\n"
          ]
        },
        {
          "output_type": "display_data",
          "data": {
            "text/plain": [
              "<Figure size 640x480 with 1 Axes>"
            ],
            "image/png": "[encoded data removed]"
          },
          "metadata": {}
        }
      ]
    }
  ]
}