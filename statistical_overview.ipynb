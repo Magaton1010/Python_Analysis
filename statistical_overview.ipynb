{
  "nbformat": 4,
  "nbformat_minor": 0,
  "metadata": {
    "colab": {
      "provenance": [],
      "authorship_tag": "ABX9TyPUsBY4OJBF5ez3HRtZ/4Gi",
      "include_colab_link": true
    },
    "kernelspec": {
      "name": "python3",
      "display_name": "Python 3"
    },
    "language_info": {
      "name": "python"
    }
  },
  "cells": [
    {
      "cell_type": "markdown",
      "metadata": {
        "id": "view-in-github",
        "colab_type": "text"
      },
      "source": [
        "<a href=\"https://colab.research.google.com/github/Magaton1010/Python_Analysis/blob/main/statistical_overview.ipynb\" target=\"_parent\"><img src=\"https://colab.research.google.com/assets/colab-badge.svg\" alt=\"Open In Colab\"/></a>"
      ]
    },
    {
      "cell_type": "markdown",
      "source": [
        "#Over viewing data set statistically"
      ],
      "metadata": {
        "id": "Eyfz5yxgDG3K"
      }
    },
    {
      "cell_type": "code",
      "execution_count": null,
      "metadata": {
        "id": "iVffKnLvBEoV"
      },
      "outputs": [],
      "source": [
        "!pip install seaborn\n",
        "!pip install scikit-learn\n",
        "import pandas as pd\n",
        "import numpy as np\n",
        "import matplotlib.pyplot as plt\n",
        "import seaborn as sns\n",
        "from scipy import stats\n",
        "from sklearn.metrics import r2_score"
      ]
    },
    {
      "cell_type": "code",
      "source": [
        "address = r\"File path.xlsx\"\n",
        "data = pd.read_excel(address)\n",
        "data.columns"
      ],
      "metadata": {
        "id": "xFYczLuRBRr2"
      },
      "execution_count": null,
      "outputs": []
    },
    {
      "cell_type": "code",
      "source": [
        "data = data[data['Site']=='PI']\n",
        "df = data.iloc[:,:19].drop(['Site', 'Treatment', 'Block', 'Row_type', 'Season','Time_1'], axis=1)\n",
        "df.columns"
      ],
      "metadata": {
        "id": "QcDXjgJFBcx4"
      },
      "execution_count": null,
      "outputs": []
    },
    {
      "cell_type": "markdown",
      "source": [
        "#Generate descriptive statistics."
      ],
      "metadata": {
        "id": "Dpsxu3I1CZGg"
      }
    },
    {
      "cell_type": "code",
      "source": [
        "df.describe()\n"
      ],
      "metadata": {
        "id": "rU0G9j2LBgVr"
      },
      "execution_count": null,
      "outputs": []
    },
    {
      "cell_type": "markdown",
      "source": [
        "#Compute several descriptive statistics of the passed array.\n"
      ],
      "metadata": {
        "id": "YWdLv3HbC0L7"
      }
    },
    {
      "cell_type": "code",
      "source": [
        "stats.describe(df.iloc[:,1])"
      ],
      "metadata": {
        "id": "P4iaka-ZC14j"
      },
      "execution_count": null,
      "outputs": []
    },
    {
      "cell_type": "markdown",
      "source": [
        "#Plot pairwise relationships in a dataset."
      ],
      "metadata": {
        "id": "coqz-ILRCJo1"
      }
    },
    {
      "cell_type": "code",
      "source": [
        "sns.pairplot(df)"
      ],
      "metadata": {
        "id": "JRwcM_BfBkbC"
      },
      "execution_count": null,
      "outputs": []
    },
    {
      "cell_type": "markdown",
      "source": [
        "#Pearson product-moment correlation coefficients."
      ],
      "metadata": {
        "id": "I9s8X2_vCQrt"
      }
    },
    {
      "cell_type": "code",
      "source": [
        "pearsons_coefficient = np.corrcoef(df.iloc[:,0], np.log10(df.iloc[:,1]))\n",
        "pearsons_coefficient"
      ],
      "metadata": {
        "id": "ztneoVgUBsae"
      },
      "execution_count": null,
      "outputs": []
    }
  ]
}