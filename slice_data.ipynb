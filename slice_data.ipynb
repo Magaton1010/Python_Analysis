{
  "nbformat": 4,
  "nbformat_minor": 0,
  "metadata": {
    "colab": {
      "provenance": [],
      "authorship_tag": "ABX9TyOAWKWSlqzfS7mQKIKOwkkM",
      "include_colab_link": true
    },
    "kernelspec": {
      "name": "python3",
      "display_name": "Python 3"
    },
    "language_info": {
      "name": "python"
    }
  },
  "cells": [
    {
      "cell_type": "markdown",
      "metadata": {
        "id": "view-in-github",
        "colab_type": "text"
      },
      "source": [
        "<a href=\"https://colab.research.google.com/github/Magaton1010/Python_Analysis/blob/main/slice_data.ipynb\" target=\"_parent\"><img src=\"https://colab.research.google.com/assets/colab-badge.svg\" alt=\"Open In Colab\"/></a>"
      ]
    },
    {
      "cell_type": "markdown",
      "source": [
        " **Excel Data Processor for Agricultural Studies 🌾**\n",
        "\n",
        "This Python script is a powerful tool for researchers and data analysts working with agricultural data. It automates the process of organizing complex datasets into a more manageable format.\n",
        "\n",
        "**Features 🚀**\n",
        "\n",
        "Automated Data Processing: Just provide the input and output directories, and let the script do the rest.\n",
        "Supports Multiple Study Types: Handles ‘Biomass’, ‘Yield’, ‘Tissue’, and ‘Soil’ studies.\n",
        "Grouped Data: Organizes data based on relevant parameters like ‘Crop’, ‘Site’, ‘Season’, and sometimes ‘Plant_part’ or ‘Depth’.\n",
        "Time-Specific Sheets: Each time-specific group is written to a separate sheet in an output Excel file.\n",
        "\n",
        "**How to Use 🛠️**\n",
        "\n",
        "Clone this repository to your local machine.\n",
        "Replace the input_folder and output_folder in the script with the paths to your directories."
      ],
      "metadata": {
        "id": "iM4x9UKFu75X"
      }
    },
    {
      "cell_type": "code",
      "source": [
        "import os\n",
        "import pandas as pd\n",
        "\n",
        "def process_files(input_folder, output_folder):\n",
        "    \"\"\"Main function to process and save Excel files based on their type.\"\"\"\n",
        "    for filename in os.listdir(input_folder):\n",
        "        input_file = os.path.join(input_folder, filename)\n",
        "        output_file_prefix = os.path.splitext(filename)[0]\n",
        "        output_file_path = os.path.join(output_folder, output_file_prefix)\n",
        "\n",
        "        if filename.startswith('Biomass'):\n",
        "            process_biomass_file(input_file, output_file_path)\n",
        "        elif filename.startswith('Yield'):\n",
        "            process_yield_file(input_file, output_file_path)\n",
        "        elif filename.startswith('Tissue'):\n",
        "            process_tissue_file(input_file, output_file_path)\n",
        "        elif filename.startswith('Soil'):\n",
        "            process_soil_file(input_file, output_file_path)\n",
        "        else:\n",
        "            print(f\"Unknown file type: {filename}\")\n",
        "\n",
        "def process_biomass_file(input_file, output_file_prefix):\n",
        "    \"\"\"Function to process Biomass files.\"\"\"\n",
        "    process_file(input_file, output_file_prefix, ['Crop', 'Site', 'Season', 'Plant_part'])\n",
        "\n",
        "def process_yield_file(input_file, output_file_prefix):\n",
        "    \"\"\"Function to process Yield files.\"\"\"\n",
        "    process_file(input_file, output_file_prefix, ['Crop', 'Site', 'Season'])\n",
        "\n",
        "def process_tissue_file(input_file, output_file_prefix):\n",
        "    \"\"\"Function to process Tissue files.\"\"\"\n",
        "    process_file(input_file, output_file_prefix, ['Crop', 'Site', 'Season'])\n",
        "\n",
        "def process_soil_file(input_file, output_file_prefix):\n",
        "    \"\"\"Function to process Soil files.\"\"\"\n",
        "    process_file(input_file, output_file_prefix, ['Crop', 'Site', 'Season', 'Depth'])\n",
        "\n",
        "def process_file(input_file, output_file_prefix, group_columns):\n",
        "    \"\"\"Helper function to process files.\"\"\"\n",
        "    df = pd.read_excel(input_file)\n",
        "    grouped = df.groupby(group_columns)\n",
        "    writer = pd.ExcelWriter(f'{output_file_prefix}.xlsx', engine='xlsxwriter')\n",
        "\n",
        "    for group_name, group_data in grouped:\n",
        "        time_groups = group_data.groupby('Time')\n",
        "\n",
        "        for time, time_group_data in time_groups:\n",
        "            sheet_name = '_'.join(list(group_name) + [str(time)])\n",
        "            time_group_data.to_excel(writer, sheet_name=sheet_name, index=False)\n",
        "\n",
        "    writer.close()\n",
        "\n",
        "if __name__ == \"__main__\":\n",
        "    input_folder = 'path_to_your_input_folder'\n",
        "    output_folder = 'path_to_your_output_folder'\n",
        "    process_files(input_folder, output_folder)\n"
      ],
      "metadata": {
        "id": "5MHz9mNnu9er"
      },
      "execution_count": null,
      "outputs": []
    },
    {
      "cell_type": "markdown",
      "source": [
        "**Use Cases 💼**\n",
        "\n",
        "Agricultural Research: Automate the data cleaning and organizing process, allowing researchers to focus more on data analysis and interpretation.\n",
        "Environmental Studies: Adapt the script to handle data from different environmental parameters.\n",
        "Healthcare and Biomedical Research: Adapt the script to group and organize data like patient records, clinical trial data, etc.\n",
        "Market Research: Use the script to organize complex datasets based on different market segments, product categories, geographical regions, etc.\n",
        "Educational Research: Adapt the script to organize data from different sources for further analysis."
      ],
      "metadata": {
        "id": "bDsLma_qAejv"
      }
    }
  ]
}