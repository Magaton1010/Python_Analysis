{
  "nbformat": 4,
  "nbformat_minor": 0,
  "metadata": {
    "colab": {
      "provenance": [],
      "authorship_tag": "ABX9TyPql7PsGmOkrxpXVvy9HXcn",
      "include_colab_link": true
    },
    "kernelspec": {
      "name": "python3",
      "display_name": "Python 3"
    },
    "language_info": {
      "name": "python"
    }
  },
  "cells": [
    {
      "cell_type": "markdown",
      "metadata": {
        "id": "view-in-github",
        "colab_type": "text"
      },
      "source": [
        "<a href=\"https://colab.research.google.com/github/Magaton1010/Python_Analysis/blob/main/Merge_the_data_frames.ipynb\" target=\"_parent\"><img src=\"https://colab.research.google.com/assets/colab-badge.svg\" alt=\"Open In Colab\"/></a>"
      ]
    },
    {
      "cell_type": "markdown",
      "source": [
        "# Merge the data frames based on the common columns"
      ],
      "metadata": {
        "id": "7MoiB4qcrM75"
      }
    },
    {
      "cell_type": "code",
      "execution_count": null,
      "metadata": {
        "id": "lSqKYOWarGcd"
      },
      "outputs": [],
      "source": [
        "# Merge the data frames based on the common columns\n",
        "merged_df = dfs[0]\n",
        "for df in dfs[1:]:\n",
        "    merged_df = pd.merge(merged_df, df, on=common_columns, how='outer')\n",
        "\n",
        "# Now, merged_df contains the merged data frames based on the common columns\n",
        "\n",
        "# Reorder the columns to put the merged columns first\n",
        "merged_columns = common_columns + [col for col in merged_df.columns if col not in common_columns]\n",
        "merged_df = merged_df[merged_columns]\n",
        "print(type(merged_df))\n",
        "merged_df.to_excel('Event_ll_BT1.xlsx')"
      ]
    }
  ]
}