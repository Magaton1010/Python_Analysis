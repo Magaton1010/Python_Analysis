{
  "nbformat": 4,
  "nbformat_minor": 0,
  "metadata": {
    "colab": {
      "provenance": [],
      "authorship_tag": "ABX9TyNg5ym4jGCI5yozA5Qgmc5O",
      "include_colab_link": true
    },
    "kernelspec": {
      "name": "python3",
      "display_name": "Python 3"
    },
    "language_info": {
      "name": "python"
    }
  },
  "cells": [
    {
      "cell_type": "markdown",
      "metadata": {
        "id": "view-in-github",
        "colab_type": "text"
      },
      "source": [
        "<a href=\"https://colab.research.google.com/github/Magaton1010/Python_Analysis/blob/main/_Pandas_Merge_Examples.ipynb\" target=\"_parent\"><img src=\"https://colab.research.google.com/assets/colab-badge.svg\" alt=\"Open In Colab\"/></a>"
      ]
    },
    {
      "cell_type": "markdown",
      "source": [
        "**Pandas Merge Examples**\n",
        "\n",
        "\n",
        "This repository contains a Python script demonstrating different types of merges using the Pandas library. Each type of merge is explained, and examples are provided to illustrate the results.\n",
        "\n",
        "Types of Merges:\n",
        "Inner Join (how='inner'):\n",
        "\n",
        "Default type of merge in pandas.\n",
        "Returns only the rows where the specified columns exist in both dataframes.\n",
        "Left Join (how='left'):\n",
        "\n",
        "Returns all rows from the left dataframe and the matched rows from the right dataframe.\n",
        "NaN values are filled for the right dataframe's columns if there is no match.\n",
        "Right Join (how='right'):\n",
        "\n",
        "Returns all rows from the right dataframe and the matched rows from the left dataframe.\n",
        "NaN values are filled for the left dataframe's columns if there is no match.\n",
        "Outer Join (how='outer'):\n",
        "\n",
        "Returns all rows when there is a match in either the left or right dataframe.\n",
        "NaN values are filled for the columns from the dataframe without a match.\n",
        "# **Example Script:**"
      ],
      "metadata": {
        "id": "e8b3SLp1JGe-"
      }
    },
    {
      "cell_type": "code",
      "execution_count": 4,
      "metadata": {
        "colab": {
          "base_uri": "https://localhost:8080/"
        },
        "id": "phqQf4WTJAfJ",
        "outputId": "747aba0b-9336-4466-9bd8-3a1ba6651100"
      },
      "outputs": [
        {
          "output_type": "stream",
          "name": "stdout",
          "text": [
            "df1:\n",
            "   key value_df1\n",
            "0    1         A\n",
            "1    2         B\n",
            "2    3         C\n",
            "3    4         D\n",
            "df2:\n",
            "   key value_df2\n",
            "0    3         X\n",
            "1    4         Y\n",
            "2    5         Z\n",
            "3    6         W\n",
            "Inner Join:\n",
            "   key value_df1 value_df2\n",
            "0    3         C         X\n",
            "1    4         D         Y\n",
            "\n",
            "Left Join:\n",
            "   key value_df1 value_df2\n",
            "0    1         A       NaN\n",
            "1    2         B       NaN\n",
            "2    3         C         X\n",
            "3    4         D         Y\n",
            "\n",
            "Right Join:\n",
            "   key value_df1 value_df2\n",
            "0    3         C         X\n",
            "1    4         D         Y\n",
            "2    5       NaN         Z\n",
            "3    6       NaN         W\n",
            "\n",
            "Outer Join:\n",
            "   key value_df1 value_df2\n",
            "0    1         A       NaN\n",
            "1    2         B       NaN\n",
            "2    3         C         X\n",
            "3    4         D         Y\n",
            "4    5       NaN         Z\n",
            "5    6       NaN         W\n"
          ]
        }
      ],
      "source": [
        "import pandas as pd\n",
        "\n",
        "# Sample dataframes\n",
        "df1 = pd.DataFrame({\n",
        "    'key': [1, 2, 3, 4],\n",
        "    'value_df1': ['A', 'B', 'C', 'D']\n",
        "})\n",
        "\n",
        "df2 = pd.DataFrame({\n",
        "    'key': [3, 4, 5, 6],\n",
        "    'value_df2': ['X', 'Y', 'Z', 'W']\n",
        "})\n",
        "#print dF1 & df2\n",
        "print(\"df1:\")\n",
        "print(df1)\n",
        "print(\"df2:\")\n",
        "print(df2)\n",
        "\n",
        "\n",
        "# Inner Join\n",
        "merged_inner = pd.merge(df1, df2, on='key', how='inner')\n",
        "print(\"Inner Join:\")\n",
        "print(merged_inner)\n",
        "\n",
        "# Left Join\n",
        "merged_left = pd.merge(df1, df2, on='key', how='left')\n",
        "print(\"\\nLeft Join:\")\n",
        "print(merged_left)\n",
        "\n",
        "# Right Join\n",
        "merged_right = pd.merge(df1, df2, on='key', how='right')\n",
        "print(\"\\nRight Join:\")\n",
        "print(merged_right)\n",
        "\n",
        "# Outer Join\n",
        "merged_outer = pd.merge(df1, df2, on='key', how='outer')\n",
        "print(\"\\nOuter Join:\")\n",
        "print(merged_outer)"
      ]
    }
  ]
}