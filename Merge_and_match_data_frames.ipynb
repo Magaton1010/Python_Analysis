{
  "nbformat": 4,
  "nbformat_minor": 0,
  "metadata": {
    "colab": {
      "provenance": [],
      "authorship_tag": "ABX9TyOAyFlT2Nyd3M1NPg5MKw0H",
      "include_colab_link": true
    },
    "kernelspec": {
      "name": "python3",
      "display_name": "Python 3"
    },
    "language_info": {
      "name": "python"
    }
  },
  "cells": [
    {
      "cell_type": "markdown",
      "metadata": {
        "id": "view-in-github",
        "colab_type": "text"
      },
      "source": [
        "<a href=\"https://colab.research.google.com/github/Magaton1010/Python_Analysis/blob/main/Merge_and_match_data_frames.ipynb\" target=\"_parent\"><img src=\"https://colab.research.google.com/assets/colab-badge.svg\" alt=\"Open In Colab\"/></a>"
      ]
    },
    {
      "cell_type": "markdown",
      "source": [
        "# Merge the data frames based on the common columns"
      ],
      "metadata": {
        "id": "7MoiB4qcrM75"
      }
    },
    {
      "cell_type": "code",
      "execution_count": null,
      "metadata": {
        "id": "lSqKYOWarGcd"
      },
      "outputs": [],
      "source": [
        "# Merge the data frames based on the common columns\n",
        "merged_df = dfs[0]\n",
        "for df in dfs[1:]:\n",
        "    merged_df = pd.merge(merged_df, df, on=common_columns, how='outer')\n",
        "\n",
        "# Now, merged_df contains the merged data frames based on the common columns\n",
        "\n",
        "# Reorder the columns to put the merged columns first\n",
        "merged_columns = common_columns + [col for col in merged_df.columns if col not in common_columns]\n",
        "merged_df = merged_df[merged_columns]\n",
        "print(type(merged_df))\n",
        "merged_df.to_excel('Event_ll_BT1.xlsx')"
      ]
    },
    {
      "cell_type": "markdown",
      "source": [
        "**Common columns to match and merge**"
      ],
      "metadata": {
        "id": "9_ehV2VLHZKJ"
      }
    },
    {
      "cell_type": "code",
      "source": [
        "# Common columns to match and merge\n",
        "common_columns = [\"Site\", \"Season\", \"Treatment\", \"Block\", \"Row_type\"]\n",
        "\n",
        "# List of event numbers\n",
        "event_numbers = (1, 2, 3, 4, 5, 6, 7, 8, 9)\n",
        "event_times = (84, 21, 28, 40, 46, 74, 55, 61, 34)\n",
        "\n",
        "# Create a list to store individual event DataFrames\n",
        "event_dfs = []\n",
        "\n",
        "# Loop through each event number and create the corresponding event DataFrame\n",
        "for event_number, event_time in zip(event_numbers, event_times):\n",
        "    event_df = df_TissulE[df_TissulE[\"Time\"] == event_time]\n",
        "    event_df_suffix = event_df.iloc[:, 5:].add_suffix(f\"_{event_number}\")\n",
        "    event_df_combined = pd.concat([event_df.iloc[:, 0:5], event_df_suffix], axis=1).reset_index(drop=True)\n",
        "    event_dfs.append(event_df_combined)\n",
        "\n",
        "# Merge the individual event DataFrames based on common columns\n",
        "merged_df = event_dfs[0]\n",
        "for event_df in event_dfs[1:]:\n",
        "    merged_df = pd.merge(merged_df, event_df, on=common_columns, how=\"outer\")\n",
        "\n",
        "# Reorder the columns to put the merged columns first\n",
        "merged_columns = common_columns + [col for col in merged_df.columns if col not in common_columns]\n",
        "Event_LE_BT = merged_df[merged_columns]\n",
        "\n",
        "# Save the merged DataFrame to an Excel file\n",
        "Event_LE_BT.to_excel(\"Event_lE_BT.xlsx\", index=False)"
      ],
      "metadata": {
        "id": "tDgjaFOHHTXL"
      },
      "execution_count": null,
      "outputs": []
    }
  ]
}