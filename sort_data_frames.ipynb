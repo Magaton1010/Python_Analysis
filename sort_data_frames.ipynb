{
  "nbformat": 4,
  "nbformat_minor": 0,
  "metadata": {
    "colab": {
      "provenance": [],
      "authorship_tag": "ABX9TyPnmvXgaEMjYw5YqpsxKBcD",
      "include_colab_link": true
    },
    "kernelspec": {
      "name": "python3",
      "display_name": "Python 3"
    },
    "language_info": {
      "name": "python"
    }
  },
  "cells": [
    {
      "cell_type": "markdown",
      "metadata": {
        "id": "view-in-github",
        "colab_type": "text"
      },
      "source": [
        "<a href=\"https://colab.research.google.com/github/Magaton1010/Python_Analysis/blob/main/sort_data_frames.ipynb\" target=\"_parent\"><img src=\"https://colab.research.google.com/assets/colab-badge.svg\" alt=\"Open In Colab\"/></a>"
      ]
    },
    {
      "cell_type": "code",
      "execution_count": null,
      "metadata": {
        "id": "wyNnmLPdqkZL"
      },
      "outputs": [],
      "source": [
        "# Function to sort data frames based on common columns"
      ]
    },
    {
      "cell_type": "code",
      "source": [
        "# Function to sort data frames based on common columns\n",
        "def sort_dataframe(df):\n",
        "    return df.sort_values(by=common_columns)\n",
        "\n",
        "# Sort each data frame\n",
        "sorted_dfs = [sort_dataframe(df) for df in [Event1_ll_BT,Event2_ll_BT,Event3_ll_BT,Event4_ll_BT,Event5_ll_BT,Event6_ll_BT,Event7_ll_BT,Event8_ll_BT,Event9_ll_BT]]\n",
        "\n",
        "# Create a list of data frames where the first 4 columns are the same\n",
        "common_dfs = [df[common_columns] for df in sorted_dfs]\n",
        "\n",
        "# Concatenate the remaining columns of each data frame\n",
        "remaining_dfs = [df.drop(common_columns, axis=1) for df in sorted_dfs]\n",
        "\n",
        "# Concatenate the common columns with the remaining columns for each data frame\n",
        "final_dfs = [pd.concat([common_dfs[i], remaining_dfs[i]], axis=1) for i in range(len(sorted_dfs))]\n"
      ],
      "metadata": {
        "id": "aq2Mi_NtqvzV"
      },
      "execution_count": null,
      "outputs": []
    },
    {
      "cell_type": "markdown",
      "source": [],
      "metadata": {
        "id": "MkmmLPAJqk1F"
      }
    }
  ]
}